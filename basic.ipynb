{
 "cells": [
  {
   "cell_type": "markdown",
   "metadata": {},
   "source": [
    "What is an API?\n",
    "\n",
    " API stands for \"Application Programming Interface.\" In simple terms,\n",
    " it's a set of rules and protocols that allow how different software\n",
    " applications can communicate and interact with each other. APIs define\n",
    " the methods and data formats that applications can use to request and\n",
    " exchange information. To retrieve data from a web server, a client\n",
    " application initiates a request, and the server responds with the\n",
    " requested data. APIs facilitate this communication by serving as\n",
    " intermediaries, allowing seamless integration between diverse software\n",
    " systems. In essence, APIs act as bridges that enable the smooth\n",
    " exchange of data and functionality, enhancing interoperability across\n",
    " various applications"
   ]
  },
  {
   "cell_type": "markdown",
   "metadata": {},
   "source": [
    "API’s are a very common set of tools and protocols that allow interaction between\n",
    " applications, code, projects and machines. API’s allow these things to access\n",
    " information from each other"
   ]
  },
  {
   "cell_type": "markdown",
   "metadata": {},
   "source": [
    "What do I mean by calling an API?\n",
    "\n",
    " When we want to access information using the API we make requests. The action of\n",
    " sending a request to an endpoint on a server is known as making a call to an API.\n",
    " Endpoint, what is that? We don’t know that word. An endpoint is a destination\n",
    " perhaps on a server or service. It is where the resource we are looking for lives."
   ]
  },
  {
   "cell_type": "markdown",
   "metadata": {},
   "source": [
    "For example take the following URL: \n",
    "\n",
    "http://www.google.com/images, our endpoint\n",
    " images at google.com will take us to the images search page on google."
   ]
  },
  {
   "cell_type": "markdown",
   "metadata": {},
   "source": [
    "content-type is application/json"
   ]
  },
  {
   "cell_type": "code",
   "execution_count": null,
   "metadata": {},
   "outputs": [
    {
     "name": "stdout",
     "output_type": "stream",
     "text": [
      "Requirement already satisfied: requests in d:\\a27_years_old\\api\\venv\\lib\\site-packages (2.32.3)\n",
      "Requirement already satisfied: charset-normalizer<4,>=2 in d:\\a27_years_old\\api\\venv\\lib\\site-packages (from requests) (3.4.0)\n",
      "Requirement already satisfied: idna<4,>=2.5 in d:\\a27_years_old\\api\\venv\\lib\\site-packages (from requests) (3.10)\n",
      "Requirement already satisfied: urllib3<3,>=1.21.1 in d:\\a27_years_old\\api\\venv\\lib\\site-packages (from requests) (2.2.3)\n",
      "Requirement already satisfied: certifi>=2017.4.17 in d:\\a27_years_old\\api\\venv\\lib\\site-packages (from requests) (2024.8.30)\n",
      "Note: you may need to restart the kernel to use updated packages.\n"
     ]
    }
   ],
   "source": [
    "# pip install requests"
   ]
  },
  {
   "cell_type": "code",
   "execution_count": 4,
   "metadata": {},
   "outputs": [],
   "source": [
    "import requests"
   ]
  },
  {
   "cell_type": "code",
   "execution_count": 5,
   "metadata": {},
   "outputs": [
    {
     "name": "stdout",
     "output_type": "stream",
     "text": [
      "IBM: 252.5500\n"
     ]
    }
   ],
   "source": [
    "\n",
    "import json\n",
    "# Function to get live stock data for a symbol\n",
    "def get_stock_data():\n",
    "    url = \"https://www.alphavantage.co/query?function=TIME_SERIES_INTRADAY&symbol=IBM&interval=5min&outputsize=full&apikey=demo\"\n",
    "    response = requests.get(url)\n",
    "\n",
    "    # Check if the response is successful\n",
    "    if response.status_code == 200:\n",
    "        data = response.json()\n",
    "        last_refreshed = data[\"Meta Data\"][\"3. Last Refreshed\"]\n",
    "        price = data[\"Time Series (5min)\"][last_refreshed][\"1. open\"]\n",
    "        return price\n",
    "    else:\n",
    "        return None\n",
    "stock_prices = {}\n",
    "price = get_stock_data()\n",
    "symbol = \"IBM\"\n",
    "if price is not None:\n",
    "    stock_prices[symbol] = price\n",
    "print(f\"{symbol}: {price}\")\n"
   ]
  },
  {
   "cell_type": "code",
   "execution_count": null,
   "metadata": {},
   "outputs": [],
   "source": [
    "# 200 OK: The server successfully processed the request, and the\n",
    "#  requested data is returned.\n",
    "#  201 Created: A new resource is created on the server as a result of\n",
    "#  the request.\n",
    "#  204 No Content: The request is successful, but there is no additional\n",
    "#  data to return.\n",
    "#  300 Multiple Choices: The requested resource has multiple\n",
    "#  representations, each with its own URL.\n",
    "#  302 Found (Temporary Redirect): The requested resource is\n",
    "#  temporarily located at a different URL.\n",
    "#  304 Not Modified: The client's cached copy of the resource is still\n",
    "#  valid, and no re-download is necessary.\n",
    "#  400 Bad Request: The request has malformed syntax or contains\n",
    "#  invalid data, making it incomprehensible to the server.\n",
    "#  401 Unauthorized: Authentication is required, and the client's\n",
    "#  credentials (e.g., API key) are missing or invalid.\n",
    "#  500 Internal Server Error: An unexpected server error occurred\n",
    "#  during request processing.\n",
    "#  502 Bad Gateway: Acting as a gateway or proxy, the server received\n",
    "#  an invalid response from an upstream server"
   ]
  },
  {
   "cell_type": "code",
   "execution_count": null,
   "metadata": {},
   "outputs": [],
   "source": [
    "# {\n",
    "#     \"Meta Data\": {\n",
    "#         \"1. Information\": \"Intraday (5min) open, high, low, close prices and volume\",\n",
    "#         \"2. Symbol\": \"IBM\",\n",
    "#         \"3. Last Refreshed\": \"2025-02-27 19:55:00\",\n",
    "#         \"4. Interval\": \"5min\",\n",
    "#         \"5. Output Size\": \"Full size\",\n",
    "#         \"6. Time Zone\": \"US/Eastern\"\n",
    "#     },\n",
    "#     \"Time Series (5min)\": {\n",
    "#         \"2025-02-27 19:55:00\": {\n",
    "#             \"1. open\": \"252.5500\",\n",
    "#             \"2. high\": \"252.5500\",\n",
    "#             \"3. low\": \"252.5000\",\n",
    "#             \"4. close\": \"252.5000\",\n",
    "#             \"5. volume\": \"20\"\n",
    "#         },\n",
    "#         \"2025-02-27 19:45:00\": {\n",
    "#             \"1. open\": \"252.5000\",\n",
    "#             \"2. high\": \"252.5500\",\n",
    "#             \"3. low\": \"252.5000\",\n",
    "#             \"4. close\": \"252.5500\",\n",
    "#             \"5. volume\": \"3\"\n",
    "#         },\n",
    "#         \"2025-02-27 19:40:00\": {\n",
    "#             \"1. open\": \"253.0000\",\n",
    "#             \"2. high\": \"253.0000\",\n",
    "#             \"3. low\": \"252.5500\",\n",
    "#             \"4. close\": \"252.5500\",\n",
    "#             \"5. volume\": \"21\"\n",
    "#         },"
   ]
  },
  {
   "cell_type": "code",
   "execution_count": 10,
   "metadata": {},
   "outputs": [],
   "source": [
    "url = 'https://www.romexchange.com/' \n",
    "# headers = { 'Content-type': 'application/json'}\n",
    "headers = {'User-Agent': 'XY','Content-type': 'application/json'}"
   ]
  },
  {
   "cell_type": "code",
   "execution_count": 11,
   "metadata": {},
   "outputs": [],
   "source": [
    "r = requests.get(url, headers = headers)"
   ]
  },
  {
   "cell_type": "code",
   "execution_count": 12,
   "metadata": {},
   "outputs": [
    {
     "data": {
      "text/plain": [
       "<Response [200]>"
      ]
     },
     "execution_count": 12,
     "metadata": {},
     "output_type": "execute_result"
    }
   ],
   "source": [
    "r"
   ]
  },
  {
   "cell_type": "code",
   "execution_count": 13,
   "metadata": {},
   "outputs": [
    {
     "data": {
      "text/plain": [
       "200"
      ]
     },
     "execution_count": 13,
     "metadata": {},
     "output_type": "execute_result"
    }
   ],
   "source": [
    "r.status_code  #  Not Acceptable!"
   ]
  },
  {
   "cell_type": "markdown",
   "metadata": {},
   "source": [
    " Representational state transfer\n",
    " \n",
    " (\n",
    " REST\n",
    " ) is a software architectural\n",
    " style that defines a set of constraints to be used for creating Web\n",
    " services. RESTful Web services allow the requesting systems to\n",
    " access and manipulate textual representations of Web resources\n",
    " by using a uniform and predefined set of stateless operations"
   ]
  },
  {
   "cell_type": "markdown",
   "metadata": {},
   "source": [
    "Let's demystify what that means (hopefully you got the full form).\n",
    " REST is basically a set of rules for communication between a client\n",
    " and server. There are a few constraints on the definition of REST:"
   ]
  },
  {
   "cell_type": "markdown",
   "metadata": {},
   "source": [
    " 1. Client-Server Architecture: the user interface of the\n",
    " website/app should be separated from the data\n",
    " request/storage, so each part can be scaled individually.\n",
    "\n",
    " 2. Statelessness: the communication should have no client\n",
    " context stored on server. This means each request to the\n",
    " server should be made with all the required data and no\n",
    " assumptions should be made if the server has any data from\n",
    " previous requests.\n",
    " \n",
    " 3. Layered system: client should not be able to tell if it is\n",
    " communicating directly with the server or some\n",
    " intermediary. These intermediary servers (be it proxy or load\n",
    " balancers) allow for scalability and security of the underlying\n",
    " server"
   ]
  },
  {
   "cell_type": "markdown",
   "metadata": {},
   "source": [
    "REST Client: code or an app that can access these REST\n",
    " services. You are using one right now! Yes, the browser can\n",
    " act as an uncontrolled REST client (the website handles the\n",
    " browser requests). The browser, for a long time, used an in\n",
    "built function called XMLHttpRequest for all REST requests.\n",
    " But, this was succeeded by \n",
    "FetchAPI, a modern, \n",
    "promise\n",
    " based approach to requests. Others examples are code\n",
    " libraries like \n",
    "axios, \n",
    "apps like \n",
    "superagent and \n",
    "got or some dedicated\n",
    " Postman (or an online version, \n",
    "command line tool like \n",
    "cURL!.\n",
    " postwoman!), or a\n",
    "\n",
    " 2. REST Service: the server. There are many popular libraries\n",
    " that make creation of these servers a breeze, like \n",
    "ExpressJS\n",
    " for NodeJS and \n",
    "Django for Python.\n",
    "\n",
    " 3. REST API: this defines the endpoint and methods allowed to\n",
    " access/submit data to the server. We will talk about this in\n",
    " great detail below. Other alternatives to this are: GraphQL,\n",
    " JSON-Pure and oData."
   ]
  },
  {
   "cell_type": "markdown",
   "metadata": {},
   "source": [
    "Anatomy of REST:\n",
    "\n",
    " Alright, so now we know that data can be requested by the client\n",
    " and the server will respond appropriately. Let's look deeper into\n",
    " how a request is formed.\n",
    " 1. Endpoint: I have already told you about this. For a refresher,\n",
    " it is the URL where the REST Server is listening.\n"
   ]
  },
  {
   "cell_type": "markdown",
   "metadata": {},
   "source": [
    "multiple 'methods' for different types of request, the\n",
    " following are most popular:\n",
    "\n",
    " 3. GET: Get resource from the server.\n",
    "\n",
    " 4. POST: Create resource to the server.\n",
    "\n",
    " 5. PATCH or PUT: Update existing resource on the server.\n",
    "\n",
    " 6. DELETE: Delete existing resource from the server.\n",
    "\n",
    " 7. Headers: The additional details provided for communication\n",
    "\n",
    " between client and server (remember, REST is stateless).\n",
    " Some of the common headers are:\n",
    " Request:\n",
    "\n",
    " 8. host: the IP of client (or from where request originated)\n",
    "\n",
    " 9. accept-language: language understandable by the client\n",
    "\n",
    " 10. user-agent: data about client, operating system and vendor\n",
    " \n",
    " Response"
   ]
  }
 ],
 "metadata": {
  "kernelspec": {
   "display_name": "Python 3",
   "language": "python",
   "name": "python3"
  },
  "language_info": {
   "codemirror_mode": {
    "name": "ipython",
    "version": 3
   },
   "file_extension": ".py",
   "mimetype": "text/x-python",
   "name": "python",
   "nbconvert_exporter": "python",
   "pygments_lexer": "ipython3",
   "version": "3.11.0"
  }
 },
 "nbformat": 4,
 "nbformat_minor": 2
}
