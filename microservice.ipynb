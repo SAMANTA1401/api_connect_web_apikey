{
 "cells": [
  {
   "cell_type": "markdown",
   "metadata": {},
   "source": [
    "Architecture Overview"
   ]
  },
  {
   "cell_type": "markdown",
   "metadata": {},
   "source": [
    "We will design an eCommerce system with microservices using FastAPI, PostgreSQL, and Redis. The architecture consists of:\n",
    "\n",
    "User Service (Handles authentication, user profiles)\n",
    "\n",
    "Product Service (Manages products, inventory)\n",
    "\n",
    "Order Service (Processes orders, payments)\n",
    "\n",
    "Payment Service (Handles transactions)\n",
    "\n",
    "Cart Service (Manages user carts)\n",
    "\n",
    "API Gateway (Single entry point for requests)\n",
    "\n",
    "Message Queue (RabbitMQ/Kafka) (For asynchronous processing)"
   ]
  },
  {
   "cell_type": "markdown",
   "metadata": {},
   "source": [
    "API Design\n",
    "\n",
    "Each microservice exposes REST APIs:\n",
    "\n",
    "User Service\n",
    "\n",
    "POST /register → Register a new user\n",
    "\n",
    "POST /login → Authenticate user\n",
    "\n",
    "GET /users/{user_id} → Fetch user details\n",
    "\n",
    "Product Service\n",
    "\n",
    "GET /products → List all products\n",
    "\n",
    "GET /products/{id} → Get product details\n",
    "\n",
    "POST /products → Add a new product\n",
    "\n",
    "PUT /products/{id} → Update product\n",
    "\n",
    "DELETE /products/{id} → Delete product\n",
    "\n",
    "Order Service\n",
    "\n",
    "POST /orders → Create a new order\n",
    "\n",
    "GET /orders/{order_id} → Get order details\n",
    "\n",
    "Payment Service\n",
    "\n",
    "POST /payments → Process payment\n",
    "\n",
    "Cart Service\n",
    "\n",
    "POST /cart/add → Add item to cart\n",
    "\n",
    "GET /cart/{user_id} → View cart"
   ]
  },
  {
   "cell_type": "markdown",
   "metadata": {},
   "source": [
    "Database Schema (PostgreSQL)"
   ]
  },
  {
   "cell_type": "markdown",
   "metadata": {},
   "source": [
    "PostgreSQL for structured data storage."
   ]
  },
  {
   "cell_type": "markdown",
   "metadata": {},
   "source": [
    "User Table"
   ]
  },
  {
   "cell_type": "code",
   "execution_count": null,
   "metadata": {
    "vscode": {
     "languageId": "sql"
    }
   },
   "outputs": [],
   "source": [
    "CREATE TABLE users (\n",
    "    id SERIAL PRIMARY KEY,\n",
    "    username VARCHAR(255) UNIQUE NOT NULL,\n",
    "    email VARCHAR(255) UNIQUE NOT NULL,\n",
    "    password_hash TEXT NOT NULL\n",
    ");"
   ]
  },
  {
   "cell_type": "markdown",
   "metadata": {},
   "source": [
    "Product Table"
   ]
  },
  {
   "cell_type": "code",
   "execution_count": null,
   "metadata": {
    "vscode": {
     "languageId": "sql"
    }
   },
   "outputs": [],
   "source": [
    "CREATE TABLE products (\n",
    "    id SERIAL PRIMARY KEY,\n",
    "    name VARCHAR(255) NOT NULL,\n",
    "    description TEXT,\n",
    "    price DECIMAL(10, 2) NOT NULL,\n",
    "    stock INT NOT NULL\n",
    ");"
   ]
  },
  {
   "cell_type": "markdown",
   "metadata": {},
   "source": [
    "Orders Table"
   ]
  },
  {
   "cell_type": "code",
   "execution_count": null,
   "metadata": {
    "vscode": {
     "languageId": "sql"
    }
   },
   "outputs": [],
   "source": [
    "CREATE TABLE orders (\n",
    "    id SERIAL PRIMARY KEY,\n",
    "    user_id INT REFERENCES users(id),\n",
    "    total_price DECIMAL(10, 2) NOT NULL,\n",
    "    status VARCHAR(50) DEFAULT 'Pending',\n",
    "    created_at TIMESTAMP DEFAULT CURRENT_TIMESTAMP\n",
    ");"
   ]
  },
  {
   "cell_type": "markdown",
   "metadata": {},
   "source": [
    "Microservices Implementation (FastAPI)"
   ]
  },
  {
   "cell_type": "markdown",
   "metadata": {},
   "source": [
    "User Service (FastAPI)"
   ]
  },
  {
   "cell_type": "code",
   "execution_count": null,
   "metadata": {},
   "outputs": [],
   "source": [
    "from fastapi import FastAPI, HTTPException\n",
    "from pydantic import BaseModel\n",
    "import bcrypt\n",
    "\n",
    "app = FastAPI()\n",
    "\n",
    "users_db = {}\n",
    "\n",
    "class User(BaseModel):\n",
    "    username: str\n",
    "    email: str\n",
    "    password: str\n",
    "\n",
    "@app.post(\"/register\")\n",
    "def register(user: User):\n",
    "    hashed_pw = bcrypt.hashpw(user.password.encode(), bcrypt.gensalt()).decode()\n",
    "    \n",
    "    if user.email in users_db:\n",
    "        raise HTTPException(status_code=400, detail=\"User already exists\")\n",
    "    users_db[user.email] = {\"username\": user.username, \"password\": hashed_pw}\n",
    "    return {\"message\": \"User registered successfully\"}\n"
   ]
  },
  {
   "cell_type": "markdown",
   "metadata": {},
   "source": [
    "product service"
   ]
  },
  {
   "cell_type": "code",
   "execution_count": null,
   "metadata": {},
   "outputs": [],
   "source": [
    "from fastapi import FastAPI, HTTPException\n",
    "from pydantic import BaseModel\n",
    "\n",
    "app = FastAPI()\n",
    "\n",
    "products_db = {}\n",
    "\n",
    "class Product(BaseModel):\n",
    "    name: str\n",
    "    description: str\n",
    "    price: float\n",
    "    stock: int\n",
    "\n",
    "@app.post(\"/products\")\n",
    "def add_product(product: Product):\n",
    "    product_id = len(products_db) + 1\n",
    "    products_db[product_id] = product.dict()\n",
    "    return {\"id\": product_id, \"message\": \"Product added successfully\"}\n",
    "\n",
    "@app.get(\"/products\")\n",
    "def list_products():\n",
    "    return products_db"
   ]
  },
  {
   "cell_type": "markdown",
   "metadata": {},
   "source": [
    "Order Service"
   ]
  },
  {
   "cell_type": "code",
   "execution_count": null,
   "metadata": {},
   "outputs": [],
   "source": [
    "from fastapi import FastAPI\n",
    "from pydantic import BaseModel\n",
    "\n",
    "app = FastAPI()\n",
    "\n",
    "orders_db = {}\n",
    "\n",
    "class Order(BaseModel):\n",
    "    user_id: int\n",
    "    total_price: float\n",
    "\n",
    "@app.post(\"/orders\")\n",
    "def create_order(order: Order):\n",
    "    order_id = len(orders_db) + 1\n",
    "    orders_db[order_id] = {\"user_id\": order.user_id, \"total_price\": order.total_price, \"status\": \"Pending\"}\n",
    "    return {\"order_id\": order_id, \"message\": \"Order placed successfully\"}\n"
   ]
  },
  {
   "cell_type": "markdown",
   "metadata": {},
   "source": [
    "Cart Service"
   ]
  },
  {
   "cell_type": "code",
   "execution_count": null,
   "metadata": {},
   "outputs": [],
   "source": [
    "from fastapi import FastAPI\n",
    "from pydantic import BaseModel\n",
    "\n",
    "app = FastAPI()\n",
    "\n",
    "cart_db = {}\n",
    "\n",
    "class CartItem(BaseModel):\n",
    "    user_id: int\n",
    "    product_id: int\n",
    "    quantity: int\n",
    "\n",
    "@app.post(\"/cart/add\")\n",
    "def add_to_cart(item: CartItem):\n",
    "    cart_db.setdefault(item.user_id, []).append(item.dict())\n",
    "    return {\"message\": \"Item added to cart\"}\n"
   ]
  },
  {
   "cell_type": "markdown",
   "metadata": {},
   "source": [
    "API Gateway (FastAPI)\n",
    "\n",
    "The API Gateway routes requests to the correct microservice."
   ]
  },
  {
   "cell_type": "code",
   "execution_count": null,
   "metadata": {},
   "outputs": [],
   "source": [
    "from fastapi import FastAPI\n",
    "import requests\n",
    "\n",
    "app = FastAPI()\n",
    "\n",
    "USER_SERVICE = \"http://localhost:8001\"\n",
    "PRODUCT_SERVICE = \"http://localhost:8002\"\n",
    "\n",
    "@app.post(\"/register\")\n",
    "def register(user: dict):\n",
    "    response = requests.post(f\"{USER_SERVICE}/register\", json=user)\n",
    "    return response.json()\n",
    "\n",
    "@app.get(\"/products\")\n",
    "def get_products():\n",
    "    response = requests.get(f\"{PRODUCT_SERVICE}/products\")\n",
    "    return response.json()\n"
   ]
  },
  {
   "cell_type": "markdown",
   "metadata": {},
   "source": [
    "Message Queue (RabbitMQ) for Async Processing\n",
    "\n",
    "For order and payment processing, we use RabbitMQ."
   ]
  },
  {
   "cell_type": "markdown",
   "metadata": {},
   "source": [
    "Publishing Message (Order Service)"
   ]
  },
  {
   "cell_type": "code",
   "execution_count": null,
   "metadata": {},
   "outputs": [],
   "source": [
    "import pika, json\n",
    "\n",
    "connection = pika.BlockingConnection(pika.ConnectionParameters('localhost'))\n",
    "channel = connection.channel()\n",
    "channel.queue_declare(queue='order_queue')\n",
    "\n",
    "def place_order(order):\n",
    "    channel.basic_publish(exchange='', routing_key='order_queue', body=json.dumps(order))\n"
   ]
  },
  {
   "cell_type": "markdown",
   "metadata": {},
   "source": [
    "Consuming Message (Payment Service)"
   ]
  },
  {
   "cell_type": "code",
   "execution_count": null,
   "metadata": {},
   "outputs": [],
   "source": [
    "import pika, json\n",
    "\n",
    "connection = pika.BlockingConnection(pika.ConnectionParameters('localhost'))\n",
    "channel = connection.channel()\n",
    "channel.queue_declare(queue='order_queue')\n",
    "\n",
    "def process_payment(ch, method, properties, body):\n",
    "    order = json.loads(body)\n",
    "    print(f\"Processing payment for order: {order}\")\n",
    "\n",
    "channel.basic_consume(queue='order_queue', on_message_callback=process_payment, auto_ack=True)\n",
    "channel.start_consuming()\n"
   ]
  },
  {
   "cell_type": "markdown",
   "metadata": {},
   "source": [
    "Database Schema for Reviews"
   ]
  },
  {
   "cell_type": "code",
   "execution_count": null,
   "metadata": {
    "vscode": {
     "languageId": "sql"
    }
   },
   "outputs": [],
   "source": [
    "CREATE TABLE reviews (\n",
    "    id SERIAL PRIMARY KEY,\n",
    "    user_id INT REFERENCES users(id),\n",
    "    product_id INT REFERENCES products(id),\n",
    "    rating INT CHECK (rating BETWEEN 1 AND 5),\n",
    "    comment TEXT,\n",
    "    created_at TIMESTAMP DEFAULT CURRENT_TIMESTAMP\n",
    ");"
   ]
  },
  {
   "cell_type": "markdown",
   "metadata": {},
   "source": [
    "Implementing the New Services"
   ]
  },
  {
   "cell_type": "markdown",
   "metadata": {},
   "source": [
    "Review Service (FastAPI + PostgreSQL)"
   ]
  },
  {
   "cell_type": "code",
   "execution_count": null,
   "metadata": {},
   "outputs": [],
   "source": [
    "from fastapi import FastAPI, HTTPException\n",
    "from pydantic import BaseModel\n",
    "import psycopg2\n",
    "\n",
    "app = FastAPI()\n",
    "\n",
    "conn = psycopg2.connect(\"dbname=ecommerce user=postgres password=secret\")\n",
    "\n",
    "class Review(BaseModel):\n",
    "    user_id: int\n",
    "    product_id: int\n",
    "    rating: int\n",
    "    comment: str\n",
    "\n",
    "@app.post(\"/reviews\")\n",
    "def add_review(review: Review):\n",
    "    cur = conn.cursor()\n",
    "    cur.execute(\"INSERT INTO reviews (user_id, product_id, rating, comment) VALUES (%s, %s, %s, %s)\",\n",
    "                (review.user_id, review.product_id, review.rating, review.comment))\n",
    "    conn.commit()\n",
    "    return {\"message\": \"Review added successfully\"}\n",
    "\n",
    "@app.get(\"/reviews/{product_id}\")\n",
    "def get_reviews(product_id: int):\n",
    "    cur = conn.cursor()\n",
    "    cur.execute(\"SELECT * FROM reviews WHERE product_id = %s\", (product_id,))\n",
    "    reviews = cur.fetchall()\n",
    "    return {\"reviews\": reviews}\n"
   ]
  },
  {
   "cell_type": "markdown",
   "metadata": {},
   "source": [
    "Search Service (FastAPI + Elasticsearch)"
   ]
  },
  {
   "cell_type": "code",
   "execution_count": null,
   "metadata": {},
   "outputs": [],
   "source": [
    "from fastapi import FastAPI\n",
    "from elasticsearch import Elasticsearch\n",
    "\n",
    "app = FastAPI()\n",
    "es = Elasticsearch(\"http://localhost:9200\")\n",
    "\n",
    "@app.get(\"/search\")\n",
    "def search_products(q: str):\n",
    "    query = {\"query\": {\"multi_match\": {\"query\": q, \"fields\": [\"name\", \"description\"]}}}\n",
    "    res = es.search(index=\"products\", body=query)\n",
    "    return res[\"hits\"][\"hits\"]\n"
   ]
  },
  {
   "cell_type": "markdown",
   "metadata": {},
   "source": [
    "Recommendation Service (FastAPI + Machine Learning)"
   ]
  },
  {
   "cell_type": "code",
   "execution_count": null,
   "metadata": {},
   "outputs": [],
   "source": [
    "from fastapi import FastAPI\n",
    "import random\n",
    "\n",
    "app = FastAPI()\n",
    "\n",
    "# Dummy ML-based recommendations\n",
    "@app.get(\"/recommendations/{user_id}\")\n",
    "def get_recommendations(user_id: int):\n",
    "    recommended_product_ids = random.sample(range(1, 100), 5)\n",
    "    return {\"user_id\": user_id, \"recommended_products\": recommended_product_ids}\n"
   ]
  },
  {
   "cell_type": "markdown",
   "metadata": {},
   "source": [
    "Analytics Service (Kafka + ClickHouse)\n",
    "\n",
    "Kafka Producer (Event Logging in API Gateway)"
   ]
  },
  {
   "cell_type": "code",
   "execution_count": null,
   "metadata": {},
   "outputs": [],
   "source": [
    "from kafka import KafkaProducer\n",
    "import json\n",
    "\n",
    "producer = KafkaProducer(bootstrap_servers=\"localhost:9092\", value_serializer=lambda v: json.dumps(v).encode('utf-8'))\n",
    "\n",
    "def log_event(user_id, event_type, metadata):\n",
    "    event = {\"user_id\": user_id, \"event_type\": event_type, \"metadata\": metadata}\n",
    "    producer.send(\"analytics_events\", event)\n"
   ]
  },
  {
   "cell_type": "markdown",
   "metadata": {},
   "source": [
    "Kafka Consumer (Saving to ClickHouse)"
   ]
  },
  {
   "cell_type": "code",
   "execution_count": null,
   "metadata": {},
   "outputs": [],
   "source": [
    "from kafka import KafkaConsumer\n",
    "import json\n",
    "import clickhouse_driver\n",
    "\n",
    "consumer = KafkaConsumer(\"analytics_events\", bootstrap_servers=\"localhost:9092\", value_deserializer=lambda x: json.loads(x.decode('utf-8')))\n",
    "client = clickhouse_driver.Client(host=\"localhost\")\n",
    "\n",
    "for message in consumer:\n",
    "    event = message.value\n",
    "    client.execute(\"INSERT INTO analytics (user_id, event_type, metadata) VALUES\", [(event[\"user_id\"], event[\"event_type\"], str(event[\"metadata\"]))])\n"
   ]
  },
  {
   "cell_type": "markdown",
   "metadata": {},
   "source": [
    "Updating API Gateway to Route Requests"
   ]
  },
  {
   "cell_type": "code",
   "execution_count": null,
   "metadata": {},
   "outputs": [],
   "source": [
    "from fastapi import FastAPI\n",
    "import requests\n",
    "\n",
    "app = FastAPI()\n",
    "\n",
    "REVIEW_SERVICE = \"http://localhost:8004\"\n",
    "SEARCH_SERVICE = \"http://localhost:8005\"\n",
    "RECOMMENDATION_SERVICE = \"http://localhost:8006\"\n",
    "\n",
    "@app.post(\"/reviews\")\n",
    "def add_review(review: dict):\n",
    "    return requests.post(f\"{REVIEW_SERVICE}/reviews\", json=review).json()\n",
    "\n",
    "@app.get(\"/search\")\n",
    "def search_products(q: str):\n",
    "    return requests.get(f\"{SEARCH_SERVICE}/search?q={q}\").json()\n",
    "\n",
    "@app.get(\"/recommendations/{user_id}\")\n",
    "def get_recommendations(user_id: int):\n",
    "    return requests.get(f\"{RECOMMENDATION_SERVICE}/recommendations/{user_id}\").json()\n"
   ]
  }
 ],
 "metadata": {
  "kernelspec": {
   "display_name": "Python 3",
   "language": "python",
   "name": "python3"
  },
  "language_info": {
   "name": "python",
   "version": "3.11.0"
  }
 },
 "nbformat": 4,
 "nbformat_minor": 2
}
